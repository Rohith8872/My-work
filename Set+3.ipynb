{
  "nbformat": 4,
  "nbformat_minor": 0,
  "metadata": {
    "colab": {
      "provenance": []
    },
    "kernelspec": {
      "name": "python3",
      "display_name": "Python 3"
    },
    "language_info": {
      "name": "python"
    }
  },
  "cells": [
    {
      "cell_type": "markdown",
      "source": [
        "# Question 5"
      ],
      "metadata": {
        "id": "4USRvUoAiEU4"
      }
    },
    {
      "cell_type": "code",
      "execution_count": 7,
      "metadata": {
        "id": "kzu-tXjahADU"
      },
      "outputs": [],
      "source": [
        "import pandas as pd\n",
        "import numpy as np\n",
        "import seaborn as sns\n",
        "import matplotlib.pyplot as plt\n",
        "import scipy.stats as stats\n",
        "import statsmodels.api as smf\n",
        "import warnings\n",
        "warnings.filterwarnings('ignore')"
      ]
    },
    {
      "cell_type": "code",
      "source": [
        "# A. Here null hypothesis is >= 5%\n",
        "#  Alternate hypotheis is < 5%"
      ],
      "metadata": {
        "id": "epg0-03Hh0Ws"
      },
      "execution_count": 3,
      "outputs": []
    },
    {
      "cell_type": "code",
      "source": [
        "p_hat= 0.046\n",
        "p= 0.05\n",
        "n= 2000\n",
        "\n",
        "# z_score = p_hat-p/(p(1-p)/n)**0.5\n",
        "z_score = (p_hat-p)/(np.sqrt(p*(1-p)/n))\n",
        "z_score"
      ],
      "metadata": {
        "colab": {
          "base_uri": "https://localhost:8080/"
        },
        "id": "5pSpI7_NitVE",
        "outputId": "a91aaf4f-60fc-4e74-c49b-00789face33a"
      },
      "execution_count": 4,
      "outputs": [
        {
          "output_type": "execute_result",
          "data": {
            "text/plain": [
              "-0.820782681668124"
            ]
          },
          "metadata": {},
          "execution_count": 4
        }
      ]
    },
    {
      "cell_type": "code",
      "source": [
        "p_value = stats.norm.sf(0.821)\n",
        "p_value"
      ],
      "metadata": {
        "colab": {
          "base_uri": "https://localhost:8080/"
        },
        "id": "kTApQNdSkExx",
        "outputId": "ec9507b9-f182-4928-91b4-6633472d9b18"
      },
      "execution_count": 8,
      "outputs": [
        {
          "output_type": "execute_result",
          "data": {
            "text/plain": [
              "0.20582313410777142"
            ]
          },
          "metadata": {},
          "execution_count": 8
        }
      ]
    },
    {
      "cell_type": "code",
      "source": [
        "if p_value>0.05:\n",
        "    print(\"\"\"No: Microsoft could not conclude that Mozilla has a less\n",
        "    than 5% share of the market even if the sample were \n",
        "    based on 2,000 users\"\"\")"
      ],
      "metadata": {
        "colab": {
          "base_uri": "https://localhost:8080/"
        },
        "id": "07h2bu7tkXjX",
        "outputId": "d1676534-2b8e-4bc4-a748-a79902650b3c"
      },
      "execution_count": 9,
      "outputs": [
        {
          "output_type": "stream",
          "name": "stdout",
          "text": [
            "No: Microsoft could not conclude that Mozilla has a less\n",
            "    than 5% share of the market even if the sample were \n",
            "    based on 2,000 users\n"
          ]
        }
      ]
    },
    {
      "cell_type": "code",
      "source": [],
      "metadata": {
        "id": "Qy6wiItrk4hf"
      },
      "execution_count": null,
      "outputs": []
    }
  ]
}